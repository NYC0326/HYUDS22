{
 "cells": [
  {
   "cell_type": "markdown",
   "id": "fd299777",
   "metadata": {},
   "source": [
    "# Python Basics"
   ]
  },
  {
   "cell_type": "code",
   "execution_count": 1,
   "id": "4f4fd341",
   "metadata": {},
   "outputs": [
    {
     "name": "stdout",
     "output_type": "stream",
     "text": [
      "4\n",
      "5.0\n",
      "14\n"
     ]
    }
   ],
   "source": [
    "print(2+2)\n",
    "print((50-5*6)/4)\n",
    "print((3*4)+2)"
   ]
  },
  {
   "cell_type": "code",
   "execution_count": 2,
   "id": "163bedc3",
   "metadata": {},
   "outputs": [
    {
     "name": "stdout",
     "output_type": "stream",
     "text": [
      "12\n"
     ]
    }
   ],
   "source": [
    "x=3\n",
    "y=4\n",
    "print(x*y)"
   ]
  },
  {
   "cell_type": "code",
   "execution_count": 3,
   "id": "d826f311",
   "metadata": {},
   "outputs": [
    {
     "name": "stdout",
     "output_type": "stream",
     "text": [
      "HelloPython\n",
      "HelloPython\n"
     ]
    }
   ],
   "source": [
    "print(\"Hello\"+\"Python\")\n",
    "str1 = \"Hello\"\n",
    "str2 = \"Python\"\n",
    "str3 = str1 + str2\n",
    "print(str3)"
   ]
  },
  {
   "cell_type": "code",
   "execution_count": 4,
   "id": "5f1a8653",
   "metadata": {},
   "outputs": [
    {
     "name": "stdout",
     "output_type": "stream",
     "text": [
      "0\n",
      "1\n",
      "2\n",
      "3\n",
      "4\n",
      "5\n",
      "6\n",
      "7\n",
      "8\n",
      "9\n"
     ]
    }
   ],
   "source": [
    "for i in range(0, 10):\n",
    "    print(i)"
   ]
  },
  {
   "cell_type": "code",
   "execution_count": 5,
   "id": "883cd9a6",
   "metadata": {},
   "outputs": [
    {
     "name": "stdout",
     "output_type": "stream",
     "text": [
      "1\n",
      "2\n",
      "3\n",
      "4\n",
      "5\n"
     ]
    }
   ],
   "source": [
    "scope = [1,2,3,4,5]\n",
    "for x in scope:\n",
    "    print(x)"
   ]
  },
  {
   "cell_type": "code",
   "execution_count": 6,
   "id": "2a6abfd0",
   "metadata": {},
   "outputs": [
    {
     "name": "stdout",
     "output_type": "stream",
     "text": [
      "1\n",
      "2\n",
      "3\n"
     ]
    }
   ],
   "source": [
    "scope = [1,2,3,4,5]\n",
    "for x in scope:\n",
    "    print(x)\n",
    "    if x<3: # 3보다 작으면 계속 진행하고 아니면 멈춤\n",
    "        continue\n",
    "    else:\n",
    "        break"
   ]
  },
  {
   "cell_type": "code",
   "execution_count": 7,
   "id": "a34bce31",
   "metadata": {},
   "outputs": [
    {
     "name": "stdout",
     "output_type": "stream",
     "text": [
      "0\n",
      "2\n",
      "4\n",
      "6\n",
      "8\n"
     ]
    }
   ],
   "source": [
    "for i in range(0,10,2): # 0부터 9까지 간격 2씩\n",
    "    print(i)"
   ]
  },
  {
   "cell_type": "code",
   "execution_count": 8,
   "id": "e58a0faa",
   "metadata": {},
   "outputs": [
    {
     "name": "stdout",
     "output_type": "stream",
     "text": [
      "2\n",
      "5\n",
      "8\n",
      "11\n"
     ]
    }
   ],
   "source": [
    "for i in range(2,12,3): # 2부터 11까지 간격 3씩\n",
    "    print(i)"
   ]
  },
  {
   "cell_type": "code",
   "execution_count": 9,
   "id": "fdb79bfe",
   "metadata": {},
   "outputs": [
    {
     "name": "stdout",
     "output_type": "stream",
     "text": [
      "0\n",
      "2\n",
      "4\n",
      "6\n",
      "8\n"
     ]
    }
   ],
   "source": [
    "for i in range(0,10):\n",
    "    if i%2==0: # 짝수면 출력\n",
    "        print(i)"
   ]
  },
  {
   "cell_type": "code",
   "execution_count": 10,
   "id": "e951aa9a",
   "metadata": {},
   "outputs": [
    {
     "name": "stdout",
     "output_type": "stream",
     "text": [
      "0\n",
      "11\n",
      "-8\n",
      "3\n",
      "14\n"
     ]
    }
   ],
   "source": [
    "for i in range(0,5):\n",
    "    if i%3==0:   # 3의 배수면 출력\n",
    "        print(i)\n",
    "    elif i%3==1: # 나머지가 1이면 10 더한 수 출력\n",
    "        print(i+10)\n",
    "    else:        # 나머지가 2이면 10 뺀 수 출력\n",
    "        print(i-10)"
   ]
  },
  {
   "cell_type": "code",
   "execution_count": 11,
   "id": "31757ea4",
   "metadata": {},
   "outputs": [
    {
     "name": "stdout",
     "output_type": "stream",
     "text": [
      "You can pass\n"
     ]
    }
   ],
   "source": [
    "condition = True\n",
    "if condition: # True 니까 출력\n",
    "    print(\"You can pass\")\n",
    "else:\n",
    "    print(\"You cannot pass\")"
   ]
  },
  {
   "cell_type": "code",
   "execution_count": 12,
   "id": "cc2438ae",
   "metadata": {},
   "outputs": [
    {
     "name": "stdout",
     "output_type": "stream",
     "text": [
      "3\n",
      "Hello world\n"
     ]
    }
   ],
   "source": [
    "def three():\n",
    "    return 3\n",
    "\n",
    "def print_hello():\n",
    "    print(\"Hello world\")\n",
    "\n",
    "print(three())\n",
    "print_hello()"
   ]
  },
  {
   "cell_type": "code",
   "execution_count": 13,
   "id": "1a13ac24",
   "metadata": {},
   "outputs": [
    {
     "name": "stdout",
     "output_type": "stream",
     "text": [
      "7\n"
     ]
    }
   ],
   "source": [
    "def my_abs(val):\n",
    "    if val<0:  # 음수면 -1 곱한 수 (절댓값) 반환\n",
    "        return 0-val\n",
    "    return val # 양수면 그냥 반환\n",
    "\n",
    "print(my_abs(-7))"
   ]
  },
  {
   "cell_type": "code",
   "execution_count": 14,
   "id": "45829f09",
   "metadata": {},
   "outputs": [
    {
     "name": "stdout",
     "output_type": "stream",
     "text": [
      "2.7\n",
      "None\n"
     ]
    }
   ],
   "source": [
    "def print_abs(val):\n",
    "    if val<0:\n",
    "        print(0-val)\n",
    "    else:\n",
    "        print(val)\n",
    "\n",
    "x = print_abs(-2.7) # print_abs를 호출하면 그냥 절댓값이 함수안에서 출력됨\n",
    "print(x) # 반환된 값이 없으니 None이 나옴"
   ]
  },
  {
   "cell_type": "code",
   "execution_count": 15,
   "id": "dbb1a82f",
   "metadata": {},
   "outputs": [
    {
     "name": "stdout",
     "output_type": "stream",
     "text": [
      "6 ,  3\n"
     ]
    }
   ],
   "source": [
    "def swap(val1, val2):\n",
    "    tmp = val1\n",
    "    val1 = val2\n",
    "    val2 = tmp\n",
    "\n",
    "x = 6\n",
    "y = 3\n",
    "swap(6,3)  # 함수 내부 지역변수끼리만 바꿈, 전역변수인 x, y에는 아무런 변경 없음\n",
    "print(x,\", \",y)"
   ]
  },
  {
   "cell_type": "code",
   "execution_count": 17,
   "id": "05148743",
   "metadata": {},
   "outputs": [
    {
     "name": "stdout",
     "output_type": "stream",
     "text": [
      "hello\n",
      "HELLO\n",
      "1212\n",
      "11222\n",
      "12\n",
      "Hi there.\n"
     ]
    }
   ],
   "source": [
    "word = 'Hello'\n",
    "print(word.lower())\n",
    "print(word.upper())\n",
    "print('12'*2)\n",
    "print('1'*2+'2'*3)\n",
    "print('1'+'2')\n",
    "print('Hi'+' there.')"
   ]
  },
  {
   "cell_type": "code",
   "execution_count": null,
   "id": "5d7dc295",
   "metadata": {},
   "outputs": [],
   "source": [
    "s = '     Extras  \\n'\n",
    "print(s.strip())                # 양옆 공백문자 제거\n",
    "s = '***10***'                  \n",
    "print(s.strip('*'))\n",
    "s = 'Let\\'s split the words'\n",
    "print(s.split(' '))\n",
    "s = 'Jane,Doe,Cars,5'\n",
    "print(s.split(','))"
   ]
  }
 ],
 "metadata": {
  "kernelspec": {
   "display_name": "Python 3.9.12 64-bit",
   "language": "python",
   "name": "python3"
  },
  "language_info": {
   "codemirror_mode": {
    "name": "ipython",
    "version": 3
   },
   "file_extension": ".py",
   "mimetype": "text/x-python",
   "name": "python",
   "nbconvert_exporter": "python",
   "pygments_lexer": "ipython3",
   "version": "3.9.12"
  },
  "vscode": {
   "interpreter": {
    "hash": "7b9aaa2e825cf03f185b50b684f5b2860e65ed1203ac0ec19d6cb8588551b1cc"
   }
  }
 },
 "nbformat": 4,
 "nbformat_minor": 5
}
