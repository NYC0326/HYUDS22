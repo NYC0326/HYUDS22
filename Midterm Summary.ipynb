{
 "cells": [
  {
   "cell_type": "markdown",
   "id": "fd299777",
   "metadata": {},
   "source": [
    "# Python Basics"
   ]
  },
  {
   "cell_type": "code",
   "execution_count": 1,
   "id": "4f4fd341",
   "metadata": {},
   "outputs": [
    {
     "name": "stdout",
     "output_type": "stream",
     "text": [
      "4\n",
      "5.0\n",
      "14\n"
     ]
    }
   ],
   "source": [
    "print(2+2)\n",
    "print((50-5*6)/4)\n",
    "print((3*4)+2)"
   ]
  },
  {
   "cell_type": "code",
   "execution_count": 2,
   "id": "163bedc3",
   "metadata": {},
   "outputs": [
    {
     "name": "stdout",
     "output_type": "stream",
     "text": [
      "12\n"
     ]
    }
   ],
   "source": [
    "x=3\n",
    "y=4\n",
    "print(x*y)"
   ]
  },
  {
   "cell_type": "code",
   "execution_count": 3,
   "id": "d826f311",
   "metadata": {},
   "outputs": [
    {
     "name": "stdout",
     "output_type": "stream",
     "text": [
      "HelloPython\n",
      "HelloPython\n"
     ]
    }
   ],
   "source": [
    "print(\"Hello\"+\"Python\")\n",
    "str1 = \"Hello\"\n",
    "str2 = \"Python\"\n",
    "str3 = str1 + str2\n",
    "print(str3)"
   ]
  },
  {
   "cell_type": "code",
   "execution_count": 4,
   "id": "5f1a8653",
   "metadata": {},
   "outputs": [
    {
     "name": "stdout",
     "output_type": "stream",
     "text": [
      "0\n",
      "1\n",
      "2\n",
      "3\n",
      "4\n",
      "5\n",
      "6\n",
      "7\n",
      "8\n",
      "9\n"
     ]
    }
   ],
   "source": [
    "for i in range(0, 10):\n",
    "    print(i)"
   ]
  },
  {
   "cell_type": "code",
   "execution_count": 5,
   "id": "883cd9a6",
   "metadata": {},
   "outputs": [
    {
     "name": "stdout",
     "output_type": "stream",
     "text": [
      "1\n",
      "2\n",
      "3\n",
      "4\n",
      "5\n"
     ]
    }
   ],
   "source": [
    "scope = [1,2,3,4,5]\n",
    "for x in scope:\n",
    "    print(x)"
   ]
  },
  {
   "cell_type": "code",
   "execution_count": 6,
   "id": "2a6abfd0",
   "metadata": {},
   "outputs": [
    {
     "name": "stdout",
     "output_type": "stream",
     "text": [
      "1\n",
      "2\n",
      "3\n"
     ]
    }
   ],
   "source": [
    "scope = [1,2,3,4,5]\n",
    "for x in scope:\n",
    "    print(x)\n",
    "    if x<3: # 3보다 작으면 계속 진행하고 아니면 멈춤\n",
    "        continue\n",
    "    else:\n",
    "        break"
   ]
  },
  {
   "cell_type": "code",
   "execution_count": 7,
   "id": "a34bce31",
   "metadata": {},
   "outputs": [
    {
     "name": "stdout",
     "output_type": "stream",
     "text": [
      "0\n",
      "2\n",
      "4\n",
      "6\n",
      "8\n"
     ]
    }
   ],
   "source": [
    "for i in range(0,10,2): # 0부터 9까지 간격 2씩\n",
    "    print(i)"
   ]
  },
  {
   "cell_type": "code",
   "execution_count": 8,
   "id": "e58a0faa",
   "metadata": {},
   "outputs": [
    {
     "name": "stdout",
     "output_type": "stream",
     "text": [
      "2\n",
      "5\n",
      "8\n",
      "11\n"
     ]
    }
   ],
   "source": [
    "for i in range(2,12,3): # 2부터 11까지 간격 3씩\n",
    "    print(i)"
   ]
  },
  {
   "cell_type": "code",
   "execution_count": 9,
   "id": "fdb79bfe",
   "metadata": {},
   "outputs": [
    {
     "name": "stdout",
     "output_type": "stream",
     "text": [
      "0\n",
      "2\n",
      "4\n",
      "6\n",
      "8\n"
     ]
    }
   ],
   "source": [
    "for i in range(0,10):\n",
    "    if i%2==0: # 짝수면 출력\n",
    "        print(i)"
   ]
  },
  {
   "cell_type": "code",
   "execution_count": 10,
   "id": "e951aa9a",
   "metadata": {},
   "outputs": [
    {
     "name": "stdout",
     "output_type": "stream",
     "text": [
      "0\n",
      "11\n",
      "-8\n",
      "3\n",
      "14\n"
     ]
    }
   ],
   "source": [
    "for i in range(0,5):\n",
    "    if i%3==0:   # 3의 배수면 출력\n",
    "        print(i)\n",
    "    elif i%3==1: # 나머지가 1이면 10 더한 수 출력\n",
    "        print(i+10)\n",
    "    else:        # 나머지가 2이면 10 뺀 수 출력\n",
    "        print(i-10)"
   ]
  },
  {
   "cell_type": "code",
   "execution_count": 11,
   "id": "31757ea4",
   "metadata": {},
   "outputs": [
    {
     "name": "stdout",
     "output_type": "stream",
     "text": [
      "You can pass\n"
     ]
    }
   ],
   "source": [
    "condition = True\n",
    "if condition: # True 니까 출력\n",
    "    print(\"You can pass\")\n",
    "else:\n",
    "    print(\"You cannot pass\")"
   ]
  },
  {
   "cell_type": "code",
   "execution_count": 12,
   "id": "cc2438ae",
   "metadata": {},
   "outputs": [
    {
     "name": "stdout",
     "output_type": "stream",
     "text": [
      "3\n",
      "Hello world\n"
     ]
    }
   ],
   "source": [
    "def three():\n",
    "    return 3\n",
    "\n",
    "def print_hello():\n",
    "    print(\"Hello world\")\n",
    "\n",
    "print(three())\n",
    "print_hello()"
   ]
  },
  {
   "cell_type": "code",
   "execution_count": 13,
   "id": "1a13ac24",
   "metadata": {},
   "outputs": [
    {
     "name": "stdout",
     "output_type": "stream",
     "text": [
      "7\n"
     ]
    }
   ],
   "source": [
    "def my_abs(val):\n",
    "    if val<0:  # 음수면 -1 곱한 수 (절댓값) 반환\n",
    "        return 0-val\n",
    "    return val # 양수면 그냥 반환\n",
    "\n",
    "print(my_abs(-7))"
   ]
  },
  {
   "cell_type": "code",
   "execution_count": 14,
   "id": "45829f09",
   "metadata": {},
   "outputs": [
    {
     "name": "stdout",
     "output_type": "stream",
     "text": [
      "2.7\n",
      "None\n"
     ]
    }
   ],
   "source": [
    "def print_abs(val):\n",
    "    if val<0:\n",
    "        print(0-val)\n",
    "    else:\n",
    "        print(val)\n",
    "\n",
    "x = print_abs(-2.7) # print_abs를 호출하면 그냥 절댓값이 함수안에서 출력됨\n",
    "print(x) # 반환된 값이 없으니 None이 나옴"
   ]
  },
  {
   "cell_type": "code",
   "execution_count": 15,
   "id": "dbb1a82f",
   "metadata": {},
   "outputs": [
    {
     "name": "stdout",
     "output_type": "stream",
     "text": [
      "6 ,  3\n"
     ]
    }
   ],
   "source": [
    "def swap(val1, val2):\n",
    "    tmp = val1\n",
    "    val1 = val2\n",
    "    val2 = tmp\n",
    "\n",
    "x = 6\n",
    "y = 3\n",
    "swap(6,3)  # 함수 내부 지역변수끼리만 바꿈, 전역변수인 x, y에는 아무런 변경 없음\n",
    "print(x,\", \",y)"
   ]
  },
  {
   "cell_type": "markdown",
   "id": "a256127b",
   "metadata": {},
   "source": [
    "# String Functions"
   ]
  },
  {
   "cell_type": "code",
   "execution_count": 16,
   "id": "05148743",
   "metadata": {},
   "outputs": [
    {
     "name": "stdout",
     "output_type": "stream",
     "text": [
      "hello\n",
      "HELLO\n",
      "1212\n",
      "11222\n",
      "12\n",
      "Hi there.\n"
     ]
    }
   ],
   "source": [
    "word = 'Hello'\n",
    "print(word.lower())\n",
    "print(word.upper())\n",
    "print('12'*2)\n",
    "print('1'*2+'2'*3)\n",
    "print('1'+'2')\n",
    "print('Hi'+' there.')"
   ]
  },
  {
   "cell_type": "code",
   "execution_count": 17,
   "id": "5d7dc295",
   "metadata": {},
   "outputs": [
    {
     "name": "stdout",
     "output_type": "stream",
     "text": [
      "Extras\n",
      "10\n",
      "[\"Let's\", 'split', 'the', 'words']\n",
      "['Jane', 'Doe', 'Cars', '5']\n"
     ]
    }
   ],
   "source": [
    "s = '     Extras  \\n'\n",
    "print(s.strip())                # 양옆 공백문자 제거\n",
    "s = '***10***'                  \n",
    "print(s.strip('*'))\n",
    "s = 'Let\\'s split the words'\n",
    "print(s.split(' '))\n",
    "s = 'Jane,Doe,Cars,5'\n",
    "print(s.split(','))"
   ]
  },
  {
   "cell_type": "code",
   "execution_count": 19,
   "id": "a14d99a8",
   "metadata": {},
   "outputs": [
    {
     "name": "stdout",
     "output_type": "stream",
     "text": [
      "el\n",
      "o\n",
      "ell\n",
      "False\n",
      "True\n",
      "1\n"
     ]
    }
   ],
   "source": [
    "word = 'Hello'\n",
    "print(word[1:3])\n",
    "print(word[4:7])\n",
    "print(word[-4:-1])\n",
    "print('HE' in word) # He여서 False임\n",
    "print('He' in word) # 그래서 얜 True\n",
    "print(word.find('el')) # 있어서 1 반환"
   ]
  },
  {
   "cell_type": "code",
   "execution_count": 27,
   "id": "1d28a119",
   "metadata": {},
   "outputs": [
    {
     "name": "stdout",
     "output_type": "stream",
     "text": [
      "1234\n",
      "1234.0\n",
      "invalid literal for int() with base 10: 'Hi'\n"
     ]
    }
   ],
   "source": [
    "word = '1234'\n",
    "print(int(word))\n",
    "print(float(word))\n",
    "word = 'Hi'\n",
    "try:\n",
    "    print(int(word))\n",
    "except ValueError as e:\n",
    "    print(e) # 문자열은 정수형으로 바뀔 수 없음"
   ]
  },
  {
   "cell_type": "code",
   "execution_count": 22,
   "id": "4070e3e2",
   "metadata": {},
   "outputs": [
    {
     "name": "stdout",
     "output_type": "stream",
     "text": [
      "We love data analysis.\n",
      "We love data analysis.\n",
      "We love data analysis.\n"
     ]
    }
   ],
   "source": [
    "statement = 'We love {} {}.'\n",
    "print(statement.format('data', 'analysis'))\n",
    "statement = 'We love {0} {1}.'\n",
    "print(statement.format('data', 'analysis'))\n",
    "statement = 'We love {1} {0}.'\n",
    "print(statement.format('analysis', 'data'))"
   ]
  },
  {
   "cell_type": "code",
   "execution_count": 23,
   "id": "0139c894",
   "metadata": {},
   "outputs": [
    {
     "name": "stdout",
     "output_type": "stream",
     "text": [
      "name is in the msg variable\n"
     ]
    }
   ],
   "source": [
    "msg = 'My name is ABC'\n",
    "if 'name' in msg:\n",
    "    print('name is in the msg variable')\n",
    "else:\n",
    "    print('name is not in the msg variable')"
   ]
  },
  {
   "cell_type": "code",
   "execution_count": 25,
   "id": "dcb1154a",
   "metadata": {},
   "outputs": [
    {
     "name": "stdout",
     "output_type": "stream",
     "text": [
      "<A string with spaces on either side >\n",
      "< A string with spaces on either side>\n",
      "<A string with spaces on either side>\n"
     ]
    }
   ],
   "source": [
    "txt = ' A string with spaces on either side '\n",
    "ret1 = txt.lstrip()\n",
    "ret2 = txt.rstrip()\n",
    "ret3 = txt.strip()\n",
    "print('<'+ret1+'>')\n",
    "print('<'+ret2+'>')\n",
    "print('<'+ret3+'>')"
   ]
  },
  {
   "cell_type": "code",
   "execution_count": 29,
   "id": "bc7c45c8",
   "metadata": {},
   "outputs": [
    {
     "name": "stdout",
     "output_type": "stream",
     "text": [
      "[11, 22, 33]\n",
      "22\n",
      "list index out of range\n",
      "11\n",
      "22\n",
      "33\n",
      "11\n",
      "22\n",
      "33\n"
     ]
    }
   ],
   "source": [
    "list = [11, 22, 33]\n",
    "print(list)\n",
    "print(list[1])\n",
    "try:\n",
    "    print(list[3])\n",
    "except IndexError as e:\n",
    "    print(e) # 인덱스 범위가 넘어감, max 2\n",
    "\n",
    "for i in list:\n",
    "    print(i)\n",
    "    \n",
    "for i in range(0, len(list)):\n",
    "    print(list[i])"
   ]
  },
  {
   "cell_type": "code",
   "execution_count": 30,
   "id": "447d6e23",
   "metadata": {},
   "outputs": [
    {
     "name": "stdout",
     "output_type": "stream",
     "text": [
      "95\n"
     ]
    }
   ],
   "source": [
    "list[1] = 95\n",
    "print(list[1]) # 변경된 값이 나옴"
   ]
  },
  {
   "cell_type": "code",
   "execution_count": 31,
   "id": "d58948d3",
   "metadata": {},
   "outputs": [
    {
     "data": {
      "text/plain": [
       "[11, 95, 33, 44]"
      ]
     },
     "execution_count": 31,
     "metadata": {},
     "output_type": "execute_result"
    }
   ],
   "source": [
    "list.append(44)\n",
    "list"
   ]
  },
  {
   "cell_type": "code",
   "execution_count": 33,
   "id": "691d2858",
   "metadata": {},
   "outputs": [
    {
     "name": "stdout",
     "output_type": "stream",
     "text": [
      "33\n",
      "[11, 22, 44]\n"
     ]
    }
   ],
   "source": [
    "list = [11,22,33,44]\n",
    "print(list.pop(2))\n",
    "print(list)"
   ]
  },
  {
   "cell_type": "code",
   "execution_count": 34,
   "id": "1748004f",
   "metadata": {},
   "outputs": [
    {
     "name": "stdout",
     "output_type": "stream",
     "text": [
      "[11, 22, 44]\n"
     ]
    }
   ],
   "source": [
    "list = [11,22,33,44]\n",
    "list.remove(33)\n",
    "print(list)"
   ]
  },
  {
   "cell_type": "code",
   "execution_count": 35,
   "id": "885c9e64",
   "metadata": {},
   "outputs": [
    {
     "name": "stdout",
     "output_type": "stream",
     "text": [
      "[1, 2, 3, 4, 5, 6]\n",
      "[1, 2, 3, [4, 5, 6]]\n"
     ]
    }
   ],
   "source": [
    "list = [1,2,3]\n",
    "list2 = [4,5,6]\n",
    "list.extend(list2) # list2의 각 요소들을 list의 요소로 추가함\n",
    "print(list)\n",
    "\n",
    "list = [1,2,3]\n",
    "list2 = [4,5,6]\n",
    "list.append(list2) # list2 자체를 list의 요소로 추가함\n",
    "print(list)"
   ]
  },
  {
   "cell_type": "code",
   "execution_count": 36,
   "id": "1d883b76",
   "metadata": {},
   "outputs": [
    {
     "name": "stdout",
     "output_type": "stream",
     "text": [
      "1 ,  4\n",
      "2 ,  5\n",
      "3 ,  6\n"
     ]
    }
   ],
   "source": [
    "list = [1,2,3]\n",
    "list2 = [4,5,6]\n",
    "\n",
    "for x,y in zip(list, list2):\n",
    "    print(x,\", \",y)"
   ]
  },
  {
   "cell_type": "code",
   "execution_count": 37,
   "id": "37ea49e4",
   "metadata": {},
   "outputs": [
    {
     "name": "stdout",
     "output_type": "stream",
     "text": [
      "i\n",
      "!\n",
      "1\n",
      "[1, 2, 3]\n",
      "3\n",
      "ime \n",
      "Time is\n",
      "oney!!\n",
      "Time is mone\n",
      "y!!\n",
      "Time is money!!\n",
      "!ynms mT\n"
     ]
    }
   ],
   "source": [
    "strdata = 'Time is money!!'\n",
    "listdata = [1,2,[1,2,3]]\n",
    "print(strdata[5])\n",
    "print(strdata[-2])\n",
    "print(listdata[0])\n",
    "print(listdata[-1])\n",
    "print(listdata[2][-1])\n",
    "print(strdata[1:5])\n",
    "print(strdata[:7])\n",
    "print(strdata[9:])\n",
    "print(strdata[:-3])\n",
    "print(strdata[-3:])\n",
    "print(strdata[:])\n",
    "print(strdata[::-2])"
   ]
  },
  {
   "cell_type": "markdown",
   "id": "817a36aa",
   "metadata": {},
   "source": [
    "# Tuple"
   ]
  },
  {
   "cell_type": "code",
   "execution_count": 38,
   "id": "d6f4e6fc",
   "metadata": {},
   "outputs": [
    {
     "name": "stdout",
     "output_type": "stream",
     "text": [
      "('Honda', 'Civic', 4, 2017)\n",
      "Civic\n",
      "4\n"
     ]
    }
   ],
   "source": [
    "tuple1 = ('Honda', 'Civic', 4, 2017)\n",
    "print(tuple1)\n",
    "print(tuple1[1])\n",
    "print(len(tuple1))"
   ]
  },
  {
   "cell_type": "code",
   "execution_count": 39,
   "id": "678baa2f",
   "metadata": {},
   "outputs": [
    {
     "name": "stdout",
     "output_type": "stream",
     "text": [
      "Honda\n",
      "Civic\n",
      "4\n",
      "2017\n"
     ]
    }
   ],
   "source": [
    "for i in tuple1:\n",
    "    print(i)"
   ]
  },
  {
   "cell_type": "code",
   "execution_count": 40,
   "id": "6423b285",
   "metadata": {},
   "outputs": [
    {
     "name": "stdout",
     "output_type": "stream",
     "text": [
      "'tuple' object does not support item assignment\n"
     ]
    }
   ],
   "source": [
    "try:\n",
    "    tuple1[3]=2018\n",
    "except TypeError as e:\n",
    "    print(e) # 튜플은 요소 변경 불가능"
   ]
  },
  {
   "cell_type": "markdown",
   "id": "2250ee6d",
   "metadata": {},
   "source": [
    "# Dictionary"
   ]
  },
  {
   "cell_type": "code",
   "execution_count": 41,
   "id": "e37dc159",
   "metadata": {},
   "outputs": [
    {
     "name": "stdout",
     "output_type": "stream",
     "text": [
      "{('Ghostbusters', 2016): 5.4, ('Ghostbusters', 1984): 7.8, ('Cars', 2006): 7.1}\n",
      "5.4\n",
      "3\n"
     ]
    }
   ],
   "source": [
    "dict = {('Ghostbusters', 2016):5.4,\n",
    "        ('Ghostbusters', 1984):7.8}\n",
    "dict[('Cars', 2006)] = 7.1\n",
    "print(dict)\n",
    "print(dict[('Ghostbusters', 2016)])\n",
    "print(len(dict))"
   ]
  },
  {
   "cell_type": "code",
   "execution_count": 42,
   "id": "db6a2f4c",
   "metadata": {},
   "outputs": [
    {
     "name": "stdout",
     "output_type": "stream",
     "text": [
      "7.1\n",
      "7.1\n"
     ]
    }
   ],
   "source": [
    "x = dict[('Cars', 2006)]\n",
    "print(x)\n",
    "x = dict.get(('Cars', 2006))\n",
    "print(x)"
   ]
  },
  {
   "cell_type": "code",
   "execution_count": 43,
   "id": "f96e7efb",
   "metadata": {},
   "outputs": [
    {
     "name": "stdout",
     "output_type": "stream",
     "text": [
      "{('Ghostbusters', 1984): 7.8, ('Cars', 2006): 7.1}\n",
      "{('Ghostbusters', 1984): 7.8}\n"
     ]
    }
   ],
   "source": [
    "dict.pop(('Ghostbusters', 2016))\n",
    "print(dict)\n",
    "del dict[('Cars', 2006)]\n",
    "print(dict)"
   ]
  },
  {
   "cell_type": "code",
   "execution_count": 46,
   "id": "d0ed24ad",
   "metadata": {},
   "outputs": [
    {
     "name": "stdout",
     "output_type": "stream",
     "text": [
      "('Ghostbusters', 2016)\n",
      "('Ghostbusters', 1984)\n",
      "('Cars', 2006)\n",
      "Ghostbusters 2016\n",
      "Ghostbusters 1984\n",
      "Cars 2006\n",
      "('Ghostbusters', 2016) : 5.4\n",
      "('Ghostbusters', 1984) : 7.8\n",
      "('Cars', 2006) : 7.1\n"
     ]
    }
   ],
   "source": [
    "dict = {('Ghostbusters', 2016):5.4,\n",
    "        ('Ghostbusters', 1984):7.8,\n",
    "        ('Cars', 2006):7.1}\n",
    "\n",
    "for i in dict: # dict의 key값 출력\n",
    "    print(i)\n",
    "\n",
    "for i in dict: # key값의 인덱스의 값을 출력\n",
    "    print(i[0], i[1])\n",
    "\n",
    "for key,value in dict.items():\n",
    "    print(key, \":\", value)"
   ]
  },
  {
   "cell_type": "markdown",
   "id": "f6804baf",
   "metadata": {},
   "source": [
    "# List and Dictionary Comprehension"
   ]
  },
  {
   "cell_type": "code",
   "execution_count": 47,
   "id": "8ed37ae6",
   "metadata": {},
   "outputs": [
    {
     "name": "stdout",
     "output_type": "stream",
     "text": [
      "[1, 4, 9, 16, 25, 36, 49, 64, 81, 100]\n"
     ]
    }
   ],
   "source": [
    "list = [i**2 for i in range(1,11)]\n",
    "print(list)"
   ]
  },
  {
   "cell_type": "code",
   "execution_count": 49,
   "id": "73e6ae2b",
   "metadata": {},
   "outputs": [
    {
     "name": "stdout",
     "output_type": "stream",
     "text": [
      "[0, 1, 2, 3, 4, 5]\n"
     ]
    }
   ],
   "source": [
    "list = [i for i in range(6)]\n",
    "print(list)"
   ]
  },
  {
   "cell_type": "code",
   "execution_count": 52,
   "id": "1532c6d3",
   "metadata": {},
   "outputs": [
    {
     "name": "stdout",
     "output_type": "stream",
     "text": [
      "{1: 1, 2: 4, 3: 9, 4: 16, 5: 25, 6: 36, 7: 49, 8: 64, 9: 81, 10: 100}\n"
     ]
    }
   ],
   "source": [
    "dict = {i:i**2 for i in range(1,11)}\n",
    "print(dict)"
   ]
  },
  {
   "cell_type": "code",
   "execution_count": 53,
   "id": "afcb2dc5",
   "metadata": {},
   "outputs": [
    {
     "name": "stdout",
     "output_type": "stream",
     "text": [
      "{65: 'A', 66: 'B', 67: 'C', 68: 'D', 69: 'E', 70: 'F', 71: 'G', 72: 'H', 73: 'I', 74: 'J', 75: 'K', 76: 'L', 77: 'M', 78: 'N', 79: 'O', 80: 'P', 81: 'Q', 82: 'R', 83: 'S', 84: 'T', 85: 'U', 86: 'V', 87: 'W', 88: 'X', 89: 'Y', 90: 'Z'}\n"
     ]
    }
   ],
   "source": [
    "dict = {i:chr(i) for i in range(65,91)}\n",
    "print(dict)"
   ]
  },
  {
   "cell_type": "markdown",
   "id": "0d5a6ee0",
   "metadata": {},
   "source": [
    "# Sets"
   ]
  },
  {
   "cell_type": "code",
   "execution_count": 54,
   "id": "df02dcd2",
   "metadata": {},
   "outputs": [
    {
     "name": "stdout",
     "output_type": "stream",
     "text": [
      "{'blue', 'green', 'red'}\n",
      "{'blue', 'green', 'yellow', 'red'}\n",
      "{'blue', 'green', 'yellow', 'red'}\n"
     ]
    }
   ],
   "source": [
    "colors = set(['blue','green','red'])\n",
    "print(colors)\n",
    "colors.add('yellow')\n",
    "print(colors)\n",
    "colors.add('blue') # 이미 있어서 추가 안됨, set은 요소가 중복되지 않음\n",
    "print(colors)"
   ]
  },
  {
   "cell_type": "code",
   "execution_count": 55,
   "id": "0335a0e3",
   "metadata": {},
   "outputs": [
    {
     "name": "stdout",
     "output_type": "stream",
     "text": [
      "{'blue', 'green', 'red'}\n",
      "{'blue', 'red'}\n"
     ]
    }
   ],
   "source": [
    "colors = set(['blue','green','red'])\n",
    "print(colors)\n",
    "colors.discard('green') # green 제거\n",
    "print(colors)"
   ]
  },
  {
   "cell_type": "code",
   "execution_count": 57,
   "id": "5f66aa8f",
   "metadata": {},
   "outputs": [
    {
     "name": "stdout",
     "output_type": "stream",
     "text": [
      "{'yellow', 'blue', 'green', 'red'}\n",
      "{'blue'}\n",
      "{'yellow', 'blue', 'green', 'red'}\n",
      "{'blue'}\n"
     ]
    }
   ],
   "source": [
    "colors_1 = set(['blue','green','red'])\n",
    "colors_2 = set(['blue', 'yellow'])\n",
    "print(colors_1.union(colors_2)) # 합집합 출력\n",
    "print(colors_1.intersection(colors_2)) # 교집합 출력\n",
    "print(colors_1|colors_2) # 합집합 출력\n",
    "print(colors_1&colors_2) # 교집합 출력"
   ]
  }
 ],
 "metadata": {
  "kernelspec": {
   "display_name": "Python 3.9.12 64-bit",
   "language": "python",
   "name": "python3"
  },
  "language_info": {
   "codemirror_mode": {
    "name": "ipython",
    "version": 3
   },
   "file_extension": ".py",
   "mimetype": "text/x-python",
   "name": "python",
   "nbconvert_exporter": "python",
   "pygments_lexer": "ipython3",
   "version": "3.9.12"
  },
  "vscode": {
   "interpreter": {
    "hash": "7b9aaa2e825cf03f185b50b684f5b2860e65ed1203ac0ec19d6cb8588551b1cc"
   }
  }
 },
 "nbformat": 4,
 "nbformat_minor": 5
}
