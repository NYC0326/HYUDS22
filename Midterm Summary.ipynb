{
 "cells": [
  {
   "cell_type": "markdown",
   "id": "fd299777",
   "metadata": {},
   "source": [
    "# Python Basics"
   ]
  },
  {
   "cell_type": "code",
   "execution_count": 1,
   "id": "4f4fd341",
   "metadata": {},
   "outputs": [
    {
     "name": "stdout",
     "output_type": "stream",
     "text": [
      "4\n",
      "5.0\n",
      "14\n"
     ]
    }
   ],
   "source": [
    "print(2+2)\n",
    "print((50-5*6)/4)\n",
    "print((3*4)+2)"
   ]
  },
  {
   "cell_type": "code",
   "execution_count": 2,
   "id": "163bedc3",
   "metadata": {},
   "outputs": [
    {
     "name": "stdout",
     "output_type": "stream",
     "text": [
      "12\n"
     ]
    }
   ],
   "source": [
    "x=3\n",
    "y=4\n",
    "print(x*y)"
   ]
  },
  {
   "cell_type": "code",
   "execution_count": 3,
   "id": "d826f311",
   "metadata": {},
   "outputs": [
    {
     "name": "stdout",
     "output_type": "stream",
     "text": [
      "HelloPython\n",
      "HelloPython\n"
     ]
    }
   ],
   "source": [
    "print(\"Hello\"+\"Python\")\n",
    "str1 = \"Hello\"\n",
    "str2 = \"Python\"\n",
    "str3 = str1 + str2\n",
    "print(str3)"
   ]
  },
  {
   "cell_type": "code",
   "execution_count": 4,
   "id": "5f1a8653",
   "metadata": {},
   "outputs": [
    {
     "name": "stdout",
     "output_type": "stream",
     "text": [
      "0\n",
      "1\n",
      "2\n",
      "3\n",
      "4\n",
      "5\n",
      "6\n",
      "7\n",
      "8\n",
      "9\n"
     ]
    }
   ],
   "source": [
    "for i in range(0, 10):\n",
    "    print(i)"
   ]
  },
  {
   "cell_type": "code",
   "execution_count": 5,
   "id": "883cd9a6",
   "metadata": {},
   "outputs": [
    {
     "name": "stdout",
     "output_type": "stream",
     "text": [
      "1\n",
      "2\n",
      "3\n",
      "4\n",
      "5\n"
     ]
    }
   ],
   "source": [
    "scope = [1,2,3,4,5]\n",
    "for x in scope:\n",
    "    print(x)"
   ]
  },
  {
   "cell_type": "code",
   "execution_count": 6,
   "id": "2a6abfd0",
   "metadata": {},
   "outputs": [
    {
     "name": "stdout",
     "output_type": "stream",
     "text": [
      "1\n",
      "2\n",
      "3\n"
     ]
    }
   ],
   "source": [
    "scope = [1,2,3,4,5]\n",
    "for x in scope:\n",
    "    print(x)\n",
    "    if x<3: # 3보다 작으면 계속 진행하고 아니면 멈춤\n",
    "        continue\n",
    "    else:\n",
    "        break"
   ]
  },
  {
   "cell_type": "code",
   "execution_count": 7,
   "id": "a34bce31",
   "metadata": {},
   "outputs": [
    {
     "name": "stdout",
     "output_type": "stream",
     "text": [
      "0\n",
      "2\n",
      "4\n",
      "6\n",
      "8\n"
     ]
    }
   ],
   "source": [
    "for i in range(0,10,2): # 0부터 9까지 간격 2씩\n",
    "    print(i)"
   ]
  },
  {
   "cell_type": "code",
   "execution_count": 8,
   "id": "e58a0faa",
   "metadata": {},
   "outputs": [
    {
     "name": "stdout",
     "output_type": "stream",
     "text": [
      "2\n",
      "5\n",
      "8\n",
      "11\n"
     ]
    }
   ],
   "source": [
    "for i in range(2,12,3): # 2부터 11까지 간격 3씩\n",
    "    print(i)"
   ]
  },
  {
   "cell_type": "code",
   "execution_count": 9,
   "id": "fdb79bfe",
   "metadata": {},
   "outputs": [
    {
     "name": "stdout",
     "output_type": "stream",
     "text": [
      "0\n",
      "2\n",
      "4\n",
      "6\n",
      "8\n"
     ]
    }
   ],
   "source": [
    "for i in range(0,10):\n",
    "    if i%2==0: # 짝수면 출력\n",
    "        print(i)"
   ]
  },
  {
   "cell_type": "code",
   "execution_count": 10,
   "id": "e951aa9a",
   "metadata": {},
   "outputs": [
    {
     "name": "stdout",
     "output_type": "stream",
     "text": [
      "0\n",
      "11\n",
      "-8\n",
      "3\n",
      "14\n"
     ]
    }
   ],
   "source": [
    "for i in range(0,5):\n",
    "    if i%3==0:   # 3의 배수면 출력\n",
    "        print(i)\n",
    "    elif i%3==1: # 나머지가 1이면 10 더한 수 출력\n",
    "        print(i+10)\n",
    "    else:        # 나머지가 2이면 10 뺀 수 출력\n",
    "        print(i-10)"
   ]
  },
  {
   "cell_type": "code",
   "execution_count": 11,
   "id": "31757ea4",
   "metadata": {},
   "outputs": [
    {
     "name": "stdout",
     "output_type": "stream",
     "text": [
      "You can pass\n"
     ]
    }
   ],
   "source": [
    "condition = True\n",
    "if condition: # True 니까 출력\n",
    "    print(\"You can pass\")\n",
    "else:\n",
    "    print(\"You cannot pass\")"
   ]
  },
  {
   "cell_type": "code",
   "execution_count": 12,
   "id": "cc2438ae",
   "metadata": {},
   "outputs": [
    {
     "name": "stdout",
     "output_type": "stream",
     "text": [
      "3\n",
      "Hello world\n"
     ]
    }
   ],
   "source": [
    "def three():\n",
    "    return 3\n",
    "\n",
    "def print_hello():\n",
    "    print(\"Hello world\")\n",
    "\n",
    "print(three())\n",
    "print_hello()"
   ]
  },
  {
   "cell_type": "code",
   "execution_count": 13,
   "id": "1a13ac24",
   "metadata": {},
   "outputs": [
    {
     "name": "stdout",
     "output_type": "stream",
     "text": [
      "7\n"
     ]
    }
   ],
   "source": [
    "def my_abs(val):\n",
    "    if val<0:  # 음수면 -1 곱한 수 (절댓값) 반환\n",
    "        return 0-val\n",
    "    return val # 양수면 그냥 반환\n",
    "\n",
    "print(my_abs(-7))"
   ]
  },
  {
   "cell_type": "code",
   "execution_count": 14,
   "id": "45829f09",
   "metadata": {},
   "outputs": [
    {
     "name": "stdout",
     "output_type": "stream",
     "text": [
      "2.7\n",
      "None\n"
     ]
    }
   ],
   "source": [
    "def print_abs(val):\n",
    "    if val<0:\n",
    "        print(0-val)\n",
    "    else:\n",
    "        print(val)\n",
    "\n",
    "x = print_abs(-2.7) # print_abs를 호출하면 그냥 절댓값이 함수안에서 출력됨\n",
    "print(x) # 반환된 값이 없으니 None이 나옴"
   ]
  },
  {
   "cell_type": "code",
   "execution_count": 15,
   "id": "dbb1a82f",
   "metadata": {},
   "outputs": [
    {
     "name": "stdout",
     "output_type": "stream",
     "text": [
      "6 ,  3\n"
     ]
    }
   ],
   "source": [
    "def swap(val1, val2):\n",
    "    tmp = val1\n",
    "    val1 = val2\n",
    "    val2 = tmp\n",
    "\n",
    "x = 6\n",
    "y = 3\n",
    "swap(6,3)  # 함수 내부 지역변수끼리만 바꿈, 전역변수인 x, y에는 아무런 변경 없음\n",
    "print(x,\", \",y)"
   ]
  },
  {
   "cell_type": "markdown",
   "id": "a256127b",
   "metadata": {},
   "source": [
    "# String Functions"
   ]
  },
  {
   "cell_type": "code",
   "execution_count": 16,
   "id": "05148743",
   "metadata": {},
   "outputs": [
    {
     "name": "stdout",
     "output_type": "stream",
     "text": [
      "hello\n",
      "HELLO\n",
      "1212\n",
      "11222\n",
      "12\n",
      "Hi there.\n"
     ]
    }
   ],
   "source": [
    "word = 'Hello'\n",
    "print(word.lower())\n",
    "print(word.upper())\n",
    "print('12'*2)\n",
    "print('1'*2+'2'*3)\n",
    "print('1'+'2')\n",
    "print('Hi'+' there.')"
   ]
  },
  {
   "cell_type": "code",
   "execution_count": 17,
   "id": "5d7dc295",
   "metadata": {},
   "outputs": [
    {
     "name": "stdout",
     "output_type": "stream",
     "text": [
      "Extras\n",
      "10\n",
      "[\"Let's\", 'split', 'the', 'words']\n",
      "['Jane', 'Doe', 'Cars', '5']\n"
     ]
    }
   ],
   "source": [
    "s = '     Extras  \\n'\n",
    "print(s.strip())                # 양옆 공백문자 제거\n",
    "s = '***10***'                  \n",
    "print(s.strip('*'))\n",
    "s = 'Let\\'s split the words'\n",
    "print(s.split(' '))\n",
    "s = 'Jane,Doe,Cars,5'\n",
    "print(s.split(','))"
   ]
  },
  {
   "cell_type": "code",
   "execution_count": 18,
   "id": "a14d99a8",
   "metadata": {},
   "outputs": [
    {
     "name": "stdout",
     "output_type": "stream",
     "text": [
      "el\n",
      "o\n",
      "ell\n",
      "False\n",
      "True\n",
      "1\n"
     ]
    }
   ],
   "source": [
    "word = 'Hello'\n",
    "print(word[1:3])\n",
    "print(word[4:7])\n",
    "print(word[-4:-1])\n",
    "print('HE' in word) # He여서 False임\n",
    "print('He' in word) # 그래서 얜 True\n",
    "print(word.find('el')) # 있어서 1 반환"
   ]
  },
  {
   "cell_type": "code",
   "execution_count": 19,
   "id": "1d28a119",
   "metadata": {},
   "outputs": [
    {
     "name": "stdout",
     "output_type": "stream",
     "text": [
      "1234\n",
      "1234.0\n",
      "invalid literal for int() with base 10: 'Hi'\n"
     ]
    }
   ],
   "source": [
    "word = '1234'\n",
    "print(int(word))\n",
    "print(float(word))\n",
    "word = 'Hi'\n",
    "try:\n",
    "    print(int(word))\n",
    "except ValueError as e:\n",
    "    print(e) # 문자열은 정수형으로 바뀔 수 없음"
   ]
  },
  {
   "cell_type": "code",
   "execution_count": 20,
   "id": "4070e3e2",
   "metadata": {},
   "outputs": [
    {
     "name": "stdout",
     "output_type": "stream",
     "text": [
      "We love data analysis.\n",
      "We love data analysis.\n",
      "We love data analysis.\n"
     ]
    }
   ],
   "source": [
    "statement = 'We love {} {}.'\n",
    "print(statement.format('data', 'analysis'))\n",
    "statement = 'We love {0} {1}.'\n",
    "print(statement.format('data', 'analysis'))\n",
    "statement = 'We love {1} {0}.'\n",
    "print(statement.format('analysis', 'data'))"
   ]
  },
  {
   "cell_type": "code",
   "execution_count": 21,
   "id": "0139c894",
   "metadata": {},
   "outputs": [
    {
     "name": "stdout",
     "output_type": "stream",
     "text": [
      "name is in the msg variable\n"
     ]
    }
   ],
   "source": [
    "msg = 'My name is ABC'\n",
    "if 'name' in msg:\n",
    "    print('name is in the msg variable')\n",
    "else:\n",
    "    print('name is not in the msg variable')"
   ]
  },
  {
   "cell_type": "code",
   "execution_count": 22,
   "id": "dcb1154a",
   "metadata": {},
   "outputs": [
    {
     "name": "stdout",
     "output_type": "stream",
     "text": [
      "<A string with spaces on either side >\n",
      "< A string with spaces on either side>\n",
      "<A string with spaces on either side>\n"
     ]
    }
   ],
   "source": [
    "txt = ' A string with spaces on either side '\n",
    "ret1 = txt.lstrip()\n",
    "ret2 = txt.rstrip()\n",
    "ret3 = txt.strip()\n",
    "print('<'+ret1+'>')\n",
    "print('<'+ret2+'>')\n",
    "print('<'+ret3+'>')"
   ]
  },
  {
   "cell_type": "code",
   "execution_count": 23,
   "id": "bc7c45c8",
   "metadata": {},
   "outputs": [
    {
     "name": "stdout",
     "output_type": "stream",
     "text": [
      "[11, 22, 33]\n",
      "22\n",
      "list index out of range\n",
      "11\n",
      "22\n",
      "33\n",
      "11\n",
      "22\n",
      "33\n"
     ]
    }
   ],
   "source": [
    "list = [11, 22, 33]\n",
    "print(list)\n",
    "print(list[1])\n",
    "try:\n",
    "    print(list[3])\n",
    "except IndexError as e:\n",
    "    print(e) # 인덱스 범위가 넘어감, max 2\n",
    "\n",
    "for i in list:\n",
    "    print(i)\n",
    "    \n",
    "for i in range(0, len(list)):\n",
    "    print(list[i])"
   ]
  },
  {
   "cell_type": "code",
   "execution_count": 24,
   "id": "447d6e23",
   "metadata": {},
   "outputs": [
    {
     "name": "stdout",
     "output_type": "stream",
     "text": [
      "95\n"
     ]
    }
   ],
   "source": [
    "list[1] = 95\n",
    "print(list[1]) # 변경된 값이 나옴"
   ]
  },
  {
   "cell_type": "code",
   "execution_count": 25,
   "id": "d58948d3",
   "metadata": {},
   "outputs": [
    {
     "data": {
      "text/plain": [
       "[11, 95, 33, 44]"
      ]
     },
     "execution_count": 25,
     "metadata": {},
     "output_type": "execute_result"
    }
   ],
   "source": [
    "list.append(44)\n",
    "list"
   ]
  },
  {
   "cell_type": "code",
   "execution_count": 26,
   "id": "691d2858",
   "metadata": {},
   "outputs": [
    {
     "name": "stdout",
     "output_type": "stream",
     "text": [
      "33\n",
      "[11, 22, 44]\n"
     ]
    }
   ],
   "source": [
    "list = [11,22,33,44]\n",
    "print(list.pop(2))\n",
    "print(list)"
   ]
  },
  {
   "cell_type": "code",
   "execution_count": 27,
   "id": "1748004f",
   "metadata": {},
   "outputs": [
    {
     "name": "stdout",
     "output_type": "stream",
     "text": [
      "[11, 22, 44]\n"
     ]
    }
   ],
   "source": [
    "list = [11,22,33,44]\n",
    "list.remove(33)\n",
    "print(list)"
   ]
  },
  {
   "cell_type": "code",
   "execution_count": 28,
   "id": "885c9e64",
   "metadata": {},
   "outputs": [
    {
     "name": "stdout",
     "output_type": "stream",
     "text": [
      "[1, 2, 3, 4, 5, 6]\n",
      "[1, 2, 3, [4, 5, 6]]\n"
     ]
    }
   ],
   "source": [
    "list = [1,2,3]\n",
    "list2 = [4,5,6]\n",
    "list.extend(list2) # list2의 각 요소들을 list의 요소로 추가함\n",
    "print(list)\n",
    "\n",
    "list = [1,2,3]\n",
    "list2 = [4,5,6]\n",
    "list.append(list2) # list2 자체를 list의 요소로 추가함\n",
    "print(list)"
   ]
  },
  {
   "cell_type": "code",
   "execution_count": 29,
   "id": "1d883b76",
   "metadata": {},
   "outputs": [
    {
     "name": "stdout",
     "output_type": "stream",
     "text": [
      "1 ,  4\n",
      "2 ,  5\n",
      "3 ,  6\n"
     ]
    }
   ],
   "source": [
    "list = [1,2,3]\n",
    "list2 = [4,5,6]\n",
    "\n",
    "for x,y in zip(list, list2):\n",
    "    print(x,\", \",y)"
   ]
  },
  {
   "cell_type": "code",
   "execution_count": 30,
   "id": "37ea49e4",
   "metadata": {},
   "outputs": [
    {
     "name": "stdout",
     "output_type": "stream",
     "text": [
      "i\n",
      "!\n",
      "1\n",
      "[1, 2, 3]\n",
      "3\n",
      "ime \n",
      "Time is\n",
      "oney!!\n",
      "Time is mone\n",
      "y!!\n",
      "Time is money!!\n",
      "!ynms mT\n"
     ]
    }
   ],
   "source": [
    "strdata = 'Time is money!!'\n",
    "listdata = [1,2,[1,2,3]]\n",
    "print(strdata[5])\n",
    "print(strdata[-2])\n",
    "print(listdata[0])\n",
    "print(listdata[-1])\n",
    "print(listdata[2][-1])\n",
    "print(strdata[1:5])\n",
    "print(strdata[:7])\n",
    "print(strdata[9:])\n",
    "print(strdata[:-3])\n",
    "print(strdata[-3:])\n",
    "print(strdata[:])\n",
    "print(strdata[::-2])"
   ]
  },
  {
   "cell_type": "markdown",
   "id": "817a36aa",
   "metadata": {},
   "source": [
    "# Tuple"
   ]
  },
  {
   "cell_type": "code",
   "execution_count": 31,
   "id": "d6f4e6fc",
   "metadata": {},
   "outputs": [
    {
     "name": "stdout",
     "output_type": "stream",
     "text": [
      "('Honda', 'Civic', 4, 2017)\n",
      "Civic\n",
      "4\n"
     ]
    }
   ],
   "source": [
    "tuple1 = ('Honda', 'Civic', 4, 2017)\n",
    "print(tuple1)\n",
    "print(tuple1[1])\n",
    "print(len(tuple1))"
   ]
  },
  {
   "cell_type": "code",
   "execution_count": 32,
   "id": "678baa2f",
   "metadata": {},
   "outputs": [
    {
     "name": "stdout",
     "output_type": "stream",
     "text": [
      "Honda\n",
      "Civic\n",
      "4\n",
      "2017\n"
     ]
    }
   ],
   "source": [
    "for i in tuple1:\n",
    "    print(i)"
   ]
  },
  {
   "cell_type": "code",
   "execution_count": 33,
   "id": "6423b285",
   "metadata": {},
   "outputs": [
    {
     "name": "stdout",
     "output_type": "stream",
     "text": [
      "'tuple' object does not support item assignment\n"
     ]
    }
   ],
   "source": [
    "try:\n",
    "    tuple1[3]=2018\n",
    "except TypeError as e:\n",
    "    print(e) # 튜플은 요소 변경 불가능"
   ]
  },
  {
   "cell_type": "markdown",
   "id": "2250ee6d",
   "metadata": {},
   "source": [
    "# Dictionary"
   ]
  },
  {
   "cell_type": "code",
   "execution_count": 34,
   "id": "e37dc159",
   "metadata": {},
   "outputs": [
    {
     "name": "stdout",
     "output_type": "stream",
     "text": [
      "{('Ghostbusters', 2016): 5.4, ('Ghostbusters', 1984): 7.8, ('Cars', 2006): 7.1}\n",
      "5.4\n",
      "3\n"
     ]
    }
   ],
   "source": [
    "dict = {('Ghostbusters', 2016):5.4,\n",
    "        ('Ghostbusters', 1984):7.8}\n",
    "dict[('Cars', 2006)] = 7.1\n",
    "print(dict)\n",
    "print(dict[('Ghostbusters', 2016)])\n",
    "print(len(dict))"
   ]
  },
  {
   "cell_type": "code",
   "execution_count": 35,
   "id": "db6a2f4c",
   "metadata": {},
   "outputs": [
    {
     "name": "stdout",
     "output_type": "stream",
     "text": [
      "7.1\n",
      "7.1\n"
     ]
    }
   ],
   "source": [
    "x = dict[('Cars', 2006)]\n",
    "print(x)\n",
    "x = dict.get(('Cars', 2006))\n",
    "print(x)"
   ]
  },
  {
   "cell_type": "code",
   "execution_count": 36,
   "id": "f96e7efb",
   "metadata": {},
   "outputs": [
    {
     "name": "stdout",
     "output_type": "stream",
     "text": [
      "{('Ghostbusters', 1984): 7.8, ('Cars', 2006): 7.1}\n",
      "{('Ghostbusters', 1984): 7.8}\n"
     ]
    }
   ],
   "source": [
    "dict.pop(('Ghostbusters', 2016))\n",
    "print(dict)\n",
    "del dict[('Cars', 2006)]\n",
    "print(dict)"
   ]
  },
  {
   "cell_type": "code",
   "execution_count": 37,
   "id": "d0ed24ad",
   "metadata": {},
   "outputs": [
    {
     "name": "stdout",
     "output_type": "stream",
     "text": [
      "('Ghostbusters', 2016)\n",
      "('Ghostbusters', 1984)\n",
      "('Cars', 2006)\n",
      "Ghostbusters 2016\n",
      "Ghostbusters 1984\n",
      "Cars 2006\n",
      "('Ghostbusters', 2016) : 5.4\n",
      "('Ghostbusters', 1984) : 7.8\n",
      "('Cars', 2006) : 7.1\n"
     ]
    }
   ],
   "source": [
    "dict = {('Ghostbusters', 2016):5.4,\n",
    "        ('Ghostbusters', 1984):7.8,\n",
    "        ('Cars', 2006):7.1}\n",
    "\n",
    "for i in dict: # dict의 key값 출력\n",
    "    print(i)\n",
    "\n",
    "for i in dict: # key값의 인덱스의 값을 출력\n",
    "    print(i[0], i[1])\n",
    "\n",
    "for key,value in dict.items():\n",
    "    print(key, \":\", value)"
   ]
  },
  {
   "cell_type": "markdown",
   "id": "f6804baf",
   "metadata": {},
   "source": [
    "# List and Dictionary Comprehension"
   ]
  },
  {
   "cell_type": "code",
   "execution_count": 38,
   "id": "8ed37ae6",
   "metadata": {},
   "outputs": [
    {
     "name": "stdout",
     "output_type": "stream",
     "text": [
      "[1, 4, 9, 16, 25, 36, 49, 64, 81, 100]\n"
     ]
    }
   ],
   "source": [
    "list = [i**2 for i in range(1,11)]\n",
    "print(list)"
   ]
  },
  {
   "cell_type": "code",
   "execution_count": 39,
   "id": "73e6ae2b",
   "metadata": {},
   "outputs": [
    {
     "name": "stdout",
     "output_type": "stream",
     "text": [
      "[0, 1, 2, 3, 4, 5]\n"
     ]
    }
   ],
   "source": [
    "list = [i for i in range(6)]\n",
    "print(list)"
   ]
  },
  {
   "cell_type": "code",
   "execution_count": 40,
   "id": "1532c6d3",
   "metadata": {},
   "outputs": [
    {
     "name": "stdout",
     "output_type": "stream",
     "text": [
      "{1: 1, 2: 4, 3: 9, 4: 16, 5: 25, 6: 36, 7: 49, 8: 64, 9: 81, 10: 100}\n"
     ]
    }
   ],
   "source": [
    "dict = {i:i**2 for i in range(1,11)}\n",
    "print(dict)"
   ]
  },
  {
   "cell_type": "code",
   "execution_count": 41,
   "id": "afcb2dc5",
   "metadata": {},
   "outputs": [
    {
     "name": "stdout",
     "output_type": "stream",
     "text": [
      "{65: 'A', 66: 'B', 67: 'C', 68: 'D', 69: 'E', 70: 'F', 71: 'G', 72: 'H', 73: 'I', 74: 'J', 75: 'K', 76: 'L', 77: 'M', 78: 'N', 79: 'O', 80: 'P', 81: 'Q', 82: 'R', 83: 'S', 84: 'T', 85: 'U', 86: 'V', 87: 'W', 88: 'X', 89: 'Y', 90: 'Z'}\n"
     ]
    }
   ],
   "source": [
    "dict = {i:chr(i) for i in range(65,91)}\n",
    "print(dict)"
   ]
  },
  {
   "cell_type": "markdown",
   "id": "0d5a6ee0",
   "metadata": {},
   "source": [
    "# Sets"
   ]
  },
  {
   "cell_type": "code",
   "execution_count": 42,
   "id": "df02dcd2",
   "metadata": {},
   "outputs": [
    {
     "name": "stdout",
     "output_type": "stream",
     "text": [
      "{'red', 'green', 'blue'}\n",
      "{'red', 'yellow', 'green', 'blue'}\n",
      "{'red', 'yellow', 'green', 'blue'}\n"
     ]
    }
   ],
   "source": [
    "colors = set(['blue','green','red'])\n",
    "print(colors)\n",
    "colors.add('yellow')\n",
    "print(colors)\n",
    "colors.add('blue') # 이미 있어서 추가 안됨, set은 요소가 중복되지 않음\n",
    "print(colors)"
   ]
  },
  {
   "cell_type": "code",
   "execution_count": 43,
   "id": "0335a0e3",
   "metadata": {},
   "outputs": [
    {
     "name": "stdout",
     "output_type": "stream",
     "text": [
      "{'red', 'green', 'blue'}\n",
      "{'red', 'blue'}\n"
     ]
    }
   ],
   "source": [
    "colors = set(['blue','green','red'])\n",
    "print(colors)\n",
    "colors.discard('green') # green 제거\n",
    "print(colors)"
   ]
  },
  {
   "cell_type": "code",
   "execution_count": 44,
   "id": "5f66aa8f",
   "metadata": {},
   "outputs": [
    {
     "name": "stdout",
     "output_type": "stream",
     "text": [
      "{'red', 'yellow', 'green', 'blue'}\n",
      "{'blue'}\n",
      "{'red', 'yellow', 'green', 'blue'}\n",
      "{'blue'}\n"
     ]
    }
   ],
   "source": [
    "colors_1 = set(['blue','green','red'])\n",
    "colors_2 = set(['blue', 'yellow'])\n",
    "print(colors_1.union(colors_2)) # 합집합 출력\n",
    "print(colors_1.intersection(colors_2)) # 교집합 출력\n",
    "print(colors_1|colors_2) # 합집합 출력\n",
    "print(colors_1&colors_2) # 교집합 출력"
   ]
  },
  {
   "cell_type": "markdown",
   "id": "a9df8bce",
   "metadata": {},
   "source": [
    "# Numpy"
   ]
  },
  {
   "cell_type": "code",
   "execution_count": 45,
   "id": "ffeb9444",
   "metadata": {},
   "outputs": [
    {
     "name": "stdout",
     "output_type": "stream",
     "text": [
      "<class 'numpy.ndarray'>\n",
      "3 33 333\n"
     ]
    }
   ],
   "source": [
    "import numpy as np\n",
    "an_arr = np.array([3,33,333])\n",
    "print(type(an_arr))\n",
    "print(an_arr[0],an_arr[1],an_arr[2])"
   ]
  },
  {
   "cell_type": "code",
   "execution_count": 47,
   "id": "35b980d0",
   "metadata": {},
   "outputs": [
    {
     "name": "stdout",
     "output_type": "stream",
     "text": [
      "[[11 12 13]\n",
      " [21 22 23]]\n",
      "(2, 3)\n"
     ]
    }
   ],
   "source": [
    "another = np.array([[11,12,13],[21,22,23]])\n",
    "print(another)\n",
    "print(another.shape)\n"
   ]
  },
  {
   "cell_type": "code",
   "execution_count": 48,
   "id": "4b1bf43d",
   "metadata": {},
   "outputs": [
    {
     "name": "stdout",
     "output_type": "stream",
     "text": [
      "[[0. 0.]\n",
      " [0. 0.]]\n",
      "[[9. 9.]\n",
      " [9. 9.]]\n",
      "[[9 9]\n",
      " [9 9]]\n"
     ]
    }
   ],
   "source": [
    "ex1 = np.zeros((2,2)) # 2*2의 0행렬 생성 / float로 만들어짐\n",
    "print(ex1)\n",
    "ex1 = np.full((2,2), 9.0) # 2*2의 9로 가득찬 행렬 생성 / float로 만들어짐\n",
    "print(ex1)\n",
    "ex1 = np.full((2,2), 9) # 2*2의 9로 가득찬 행렬 생성 / int로 만들어짐\n",
    "print(ex1)"
   ]
  },
  {
   "cell_type": "code",
   "execution_count": 53,
   "id": "fe826a46",
   "metadata": {},
   "outputs": [
    {
     "name": "stdout",
     "output_type": "stream",
     "text": [
      "[[1. 1.]]\n",
      "[[0.31392139 0.91998953]\n",
      " [0.83148295 0.76516833]]\n",
      "[[1. 0.]\n",
      " [0. 1.]]\n"
     ]
    }
   ],
   "source": [
    "ex2 = np.ones((1,2)) # 2*2의 1행렬 생성 / float로 만들어짐\n",
    "print(ex2)\n",
    "ex2 = np.random.random((2,2)) # 무작위 2*2 행렬 생성\n",
    "print(ex2)\n",
    "ex2 = np.eye(2,2) # 얘는 괄호 안에 2,2를 괄호로 안씌워 줘도 된다\n",
    "print(ex2)        # 대각선으로 1인 행렬 / float로 만들어짐"
   ]
  },
  {
   "cell_type": "code",
   "execution_count": 51,
   "id": "f16e347a",
   "metadata": {},
   "outputs": [
    {
     "name": "stdout",
     "output_type": "stream",
     "text": [
      "[21 22 23 24] (4,)\n",
      "[[12 13]\n",
      " [22 23]] (2, 2)\n",
      "[[21 22 23 24]] (1, 4)\n"
     ]
    }
   ],
   "source": [
    "an_array = np.array([[11,12,13,14],[21,22,23,24],[31,32,33,34]])\n",
    "row_rank1 = an_array[1,:]\n",
    "print(row_rank1, row_rank1.shape)\n",
    "row_rank2 = an_array[:2, 1:3]\n",
    "print(row_rank2, row_rank2.shape)\n",
    "row_rank3 = an_array[1:2, :]\n",
    "print(row_rank3, row_rank3.shape)"
   ]
  },
  {
   "cell_type": "code",
   "execution_count": 52,
   "id": "7a892f3e",
   "metadata": {},
   "outputs": [
    {
     "name": "stdout",
     "output_type": "stream",
     "text": [
      "[12 22 32] (3,)\n",
      "[[12]\n",
      " [22]\n",
      " [32]] (3, 1)\n"
     ]
    }
   ],
   "source": [
    "col_rank1 = an_array[:,1]\n",
    "print(col_rank1, col_rank1.shape)\n",
    "col_rank2 = an_array[:,1:2]\n",
    "print(col_rank2, col_rank2.shape)"
   ]
  },
  {
   "cell_type": "code",
   "execution_count": 55,
   "id": "bf1e71fc",
   "metadata": {},
   "outputs": [
    {
     "name": "stdout",
     "output_type": "stream",
     "text": [
      "[0 1 2 0]\n",
      "[0 1 2 3]\n"
     ]
    }
   ],
   "source": [
    "col_indices = np.array([0,1,2,0])\n",
    "print(col_indices)\n",
    "row_indices = np.arange(4) # 0~3까지 4개의 수를 요소로 같는 행렬 생성\n",
    "print(row_indices)"
   ]
  },
  {
   "cell_type": "code",
   "execution_count": 59,
   "id": "d3f05598",
   "metadata": {},
   "outputs": [
    {
     "name": "stdout",
     "output_type": "stream",
     "text": [
      "0 ,  0\n",
      "1 ,  1\n",
      "2 ,  2\n",
      "3 ,  0\n",
      "[11 22 33 41]\n",
      "[[10011    12    13    14]\n",
      " [   21 10022    23    24]\n",
      " [   31    32 10033    34]\n",
      " [10041    42    43    44]]\n"
     ]
    }
   ],
   "source": [
    "for row, col in zip(row_indices, col_indices):\n",
    "    print(row, ', ', col)\n",
    "\n",
    "an_array = np.array([[11,12,13,14],\n",
    "                     [21,22,23,24],\n",
    "                     [31,32,33,34],\n",
    "                     [41,42,43,44]])\n",
    "\n",
    "print(an_array[row_indices, col_indices])\n",
    "an_array[row_indices, col_indices] += 10000\n",
    "print(an_array)\n",
    "# 위와 같은 연산은 오직 numpy array에서만 가능, list는 불가능"
   ]
  },
  {
   "cell_type": "code",
   "execution_count": 61,
   "id": "80863c59",
   "metadata": {},
   "outputs": [
    {
     "name": "stdout",
     "output_type": "stream",
     "text": [
      "[[False False]\n",
      " [ True  True]\n",
      " [ True  True]]\n",
      "[21 22 31 32]\n",
      "[12 22 32]\n"
     ]
    }
   ],
   "source": [
    "an_array = np.array([[11,12],[21,22],[31,32]])\n",
    "\n",
    "filter = an_array>15\n",
    "print(filter)\n",
    "print(an_array[filter])\n",
    "print(an_array[an_array%2==0])"
   ]
  },
  {
   "cell_type": "code",
   "execution_count": 62,
   "id": "5d967d3c",
   "metadata": {},
   "outputs": [
    {
     "name": "stdout",
     "output_type": "stream",
     "text": [
      "[[ 11 112]\n",
      " [ 21 122]\n",
      " [ 31 132]]\n"
     ]
    }
   ],
   "source": [
    "an_array[an_array%2==0] += 100 # 짝수인 요소에 100 더함\n",
    "print(an_array)"
   ]
  },
  {
   "cell_type": "code",
   "execution_count": 65,
   "id": "c9a33ce3",
   "metadata": {},
   "outputs": [
    {
     "name": "stdout",
     "output_type": "stream",
     "text": [
      "int32\n",
      "float64\n",
      "int64\n",
      "int64\n",
      "[11 12]\n",
      "float64\n",
      "[11. 21.]\n"
     ]
    }
   ],
   "source": [
    "ex1 = np.array([11,12])\n",
    "print(ex1.dtype)\n",
    "ex2 = np.array([11.0, 12.0]) # 출력시 .0은 .으로 생략됨\n",
    "print(ex2.dtype)\n",
    "ex3 = np.array([11,21], dtype=np.int64)\n",
    "print(ex3.dtype)\n",
    "ex4 = np.array([11.1, 12.7], dtype=np.int64) # 내림됨\n",
    "print(ex4.dtype)\n",
    "print(ex4)\n",
    "ex5 = np.array([11,21], dtype=np.float64)\n",
    "print(ex5.dtype)\n",
    "print(ex5)"
   ]
  },
  {
   "cell_type": "code",
   "execution_count": 66,
   "id": "079c9d2a",
   "metadata": {},
   "outputs": [
    {
     "name": "stdout",
     "output_type": "stream",
     "text": [
      "[[111 112]\n",
      " [121 122]]\n",
      "\n",
      "[[211.1 212.1]\n",
      " [221.1 222.1]]\n"
     ]
    }
   ],
   "source": [
    "x = np.array([[111,112],[121,122]], dtype=np.int32)\n",
    "y = np.array([[211.1,212.1],[221.1,222.1]], dtype=np.float64)\n",
    "\n",
    "print(x)\n",
    "print()\n",
    "print(y)"
   ]
  },
  {
   "cell_type": "code",
   "execution_count": 68,
   "id": "cb73d305",
   "metadata": {},
   "outputs": [
    {
     "name": "stdout",
     "output_type": "stream",
     "text": [
      "[[322.1 324.1]\n",
      " [342.1 344.1]]\n",
      "\n",
      "[[322.1 324.1]\n",
      " [342.1 344.1]]\n"
     ]
    }
   ],
   "source": [
    "print(x+y)\n",
    "print()\n",
    "print(np.add(x,y)) # 두 행렬 더하기"
   ]
  },
  {
   "cell_type": "code",
   "execution_count": 67,
   "id": "b2bf6dc5",
   "metadata": {},
   "outputs": [
    {
     "name": "stdout",
     "output_type": "stream",
     "text": [
      "[[-100.1 -100.1]\n",
      " [-100.1 -100.1]]\n",
      "\n",
      "[[-100.1 -100.1]\n",
      " [-100.1 -100.1]]\n"
     ]
    }
   ],
   "source": [
    "print(x-y)\n",
    "print()\n",
    "print(np.subtract(x,y)) # 두 행렬 빼기"
   ]
  },
  {
   "cell_type": "code",
   "execution_count": 69,
   "id": "2b29ea18",
   "metadata": {},
   "outputs": [
    {
     "name": "stdout",
     "output_type": "stream",
     "text": [
      "[[23432.1 23755.2]\n",
      " [26753.1 27096.2]]\n",
      "\n",
      "[[23432.1 23755.2]\n",
      " [26753.1 27096.2]]\n"
     ]
    }
   ],
   "source": [
    "print(x*y)\n",
    "print()\n",
    "print(np.multiply(x,y)) # 두 행렬 곱셉, 행렬곱이 아니라 그냥 각 요소끼리 곱셈"
   ]
  },
  {
   "cell_type": "code",
   "execution_count": 70,
   "id": "625c1fdb",
   "metadata": {},
   "outputs": [
    {
     "name": "stdout",
     "output_type": "stream",
     "text": [
      "[[0.52581715 0.52805281]\n",
      " [0.54726368 0.54930212]]\n",
      "\n",
      "[[0.52581715 0.52805281]\n",
      " [0.54726368 0.54930212]]\n"
     ]
    }
   ],
   "source": [
    "print(x/y)\n",
    "print()\n",
    "print(np.divide(x,y)) # 두 행렬 나눗셈, 행렬 나눗셈이 아니라 각 요소끼리 나눗셈"
   ]
  },
  {
   "cell_type": "code",
   "execution_count": 72,
   "id": "9d29ba86",
   "metadata": {},
   "outputs": [
    {
     "name": "stdout",
     "output_type": "stream",
     "text": [
      "[[10.53565375 10.58300524]\n",
      " [11.         11.04536102]]\n",
      "[[1.60948707e+48 4.37503945e+48]\n",
      " [3.54513118e+52 9.63666567e+52]]\n"
     ]
    }
   ],
   "source": [
    "print(np.sqrt(x)) # x의 각 요소들을 루트 씌운 행렬\n",
    "print(np.exp(x)) # x의 각 요소들을 e의 승으로 만든 행렬"
   ]
  },
  {
   "cell_type": "code",
   "execution_count": 73,
   "id": "34811d8e",
   "metadata": {},
   "outputs": [
    {
     "name": "stdout",
     "output_type": "stream",
     "text": [
      "[[ 5.00633303 -4.0471895  -3.47848896 -9.52086727  7.32393165]\n",
      " [ 8.33374757 11.80420606  0.64967412  0.55002738  6.2996592 ]]\n",
      "2.2921033270994458\n",
      "[-0.94325621  5.52746286]\n",
      "[ 6.6700403   3.87850828 -1.41440742 -4.48541994  6.81179542]\n",
      "22.921033270994457\n",
      "[-3.47848896  6.2996592 ]\n"
     ]
    }
   ],
   "source": [
    "arr = 10*np.random.randn(2,5) # 무작위의 2*5 행렬 생성\n",
    "print(arr)\n",
    "print(arr.mean()) # 모든 요소의 평균 출력\n",
    "print(arr.mean(axis=1)) # 행의 평균 출력\n",
    "print(arr.mean(axis=0)) # 열의 평균 출력\n",
    "print(arr.sum()) # 모든 요소의 합\n",
    "print(np.median(arr, axis=1)) # 각 행의 중앙값 출력"
   ]
  },
  {
   "cell_type": "code",
   "execution_count": 74,
   "id": "69172995",
   "metadata": {},
   "outputs": [
    {
     "name": "stdout",
     "output_type": "stream",
     "text": [
      "[ 1.38645343  0.29497218  0.01938473  2.23485011  0.10146512 -1.10630732\n",
      " -0.73274278  0.4393095  -0.31861667 -0.20512866]\n",
      "<class 'numpy.ndarray'>\n",
      "[ 1.38645343  0.29497218  0.01938473  2.23485011  0.10146512 -1.10630732\n",
      " -0.73274278  0.4393095  -0.31861667 -0.20512866]\n",
      "[-1.10630732 -0.73274278 -0.31861667 -0.20512866  0.01938473  0.10146512\n",
      "  0.29497218  0.4393095   1.38645343  2.23485011]\n",
      "[ 2.23485011  1.38645343  0.4393095   0.29497218  0.10146512  0.01938473\n",
      " -0.20512866 -0.31861667 -0.73274278 -1.10630732]\n"
     ]
    }
   ],
   "source": [
    "unsorted = np.random.randn(10)\n",
    "print(unsorted)\n",
    "print(type(unsorted))\n",
    "\n",
    "sorted = np.sort(unsorted)\n",
    "print(unsorted)\n",
    "print(sorted)\n",
    "sorted_descending = np.sort(unsorted)[::-1]\n",
    "print(sorted_descending)"
   ]
  },
  {
   "cell_type": "code",
   "execution_count": 75,
   "id": "a623e2e7",
   "metadata": {},
   "outputs": [
    {
     "name": "stdout",
     "output_type": "stream",
     "text": [
      "[1 2 4]\n"
     ]
    }
   ],
   "source": [
    "array = np.array([1,2,1,4,2,1,4,2])\n",
    "print(np.unique(array)) # 각각 보여줌 (겹치는게 두번 X)"
   ]
  },
  {
   "cell_type": "code",
   "execution_count": 76,
   "id": "cbe03b18",
   "metadata": {},
   "outputs": [
    {
     "name": "stdout",
     "output_type": "stream",
     "text": [
      "['desk' 'chair' 'bulb'] ['lamp' 'bulb' 'chair']\n",
      "['bulb' 'chair']\n",
      "['bulb' 'chair' 'desk' 'lamp']\n",
      "['desk']\n",
      "[False  True  True]\n"
     ]
    }
   ],
   "source": [
    "s1 = np.array(['desk','chair','bulb'])\n",
    "s2 = np.array(['lamp','bulb','chair'])\n",
    "print(s1,s2)\n",
    "print(np.intersect1d(s1,s2)) # 1차원 배열 교집합\n",
    "print(np.union1d(s1,s2)) # 1차원 배열 합집합\n",
    "print(np.setdiff1d(s1,s2)) # s1엔 있는데 s2엔 없는거 출력 (차집합)\n",
    "print(np.in1d(s1,s2)) # s1에 있는게 s2에 있는지 Boolean을 반환해줌"
   ]
  },
  {
   "cell_type": "code",
   "execution_count": 78,
   "id": "e764c354",
   "metadata": {},
   "outputs": [
    {
     "name": "stdout",
     "output_type": "stream",
     "text": [
      "[[0. 0. 0.]\n",
      " [0. 0. 0.]\n",
      " [0. 0. 0.]\n",
      " [0. 0. 0.]]\n",
      "[1 0 2]\n",
      "[[1. 0. 2.]\n",
      " [1. 0. 2.]\n",
      " [1. 0. 2.]\n",
      " [1. 0. 2.]]\n"
     ]
    }
   ],
   "source": [
    "start = np.zeros((4,3))\n",
    "print(start)\n",
    "add_rows = np.array([1,0,2])\n",
    "print(add_rows)\n",
    "y = start+add_rows # start의 각 행마다 add_rows의 값을 더함\n",
    "print(y)"
   ]
  },
  {
   "cell_type": "code",
   "execution_count": 79,
   "id": "776a8509",
   "metadata": {},
   "outputs": [
    {
     "name": "stdout",
     "output_type": "stream",
     "text": [
      "(1, 4)\n",
      "[[0 1 2 3]]\n",
      "[[0]\n",
      " [1]\n",
      " [2]\n",
      " [3]]\n",
      "(4, 1)\n",
      "[[0. 0. 0.]\n",
      " [1. 1. 1.]\n",
      " [2. 2. 2.]\n",
      " [3. 3. 3.]]\n"
     ]
    }
   ],
   "source": [
    "add_cols = np.array([[0,1,2,3]])\n",
    "print(add_cols.shape)\n",
    "print(add_cols)\n",
    "add_cols_T = add_cols.T # 행을 열로 변환\n",
    "\n",
    "print(add_cols_T)\n",
    "print(add_cols_T.shape)\n",
    "\n",
    "y = start+add_cols_T # 각 열마다 더함\n",
    "print(y)"
   ]
  },
  {
   "cell_type": "code",
   "execution_count": 80,
   "id": "9eaeba1d",
   "metadata": {},
   "outputs": [
    {
     "name": "stdout",
     "output_type": "stream",
     "text": [
      "[[1. 1. 1.]\n",
      " [1. 1. 1.]\n",
      " [1. 1. 1.]\n",
      " [1. 1. 1.]]\n"
     ]
    }
   ],
   "source": [
    "add_scalar = np.array([1])\n",
    "print(start+add_scalar) # 다 1씩 더해짐"
   ]
  },
  {
   "cell_type": "code",
   "execution_count": 81,
   "id": "ba35eb33",
   "metadata": {},
   "outputs": [
    {
     "name": "stdout",
     "output_type": "stream",
     "text": [
      "[[ 1  2  3  4]\n",
      " [ 5  6  7  8]\n",
      " [ 9 10 11 12]]\n",
      "[0, 1, 0, 2]\n",
      "[[ 1  3  3  6]\n",
      " [ 5  7  7 10]\n",
      " [ 9 11 11 14]]\n"
     ]
    }
   ],
   "source": [
    "arrA = np.array([[1,2,3,4],[5,6,7,8],[9,10,11,12]])\n",
    "print(arrA)\n",
    "arrB = [0,1,0,2]\n",
    "print(arrB)\n",
    "print(arrA+arrB) # arrA의 각 행에 arrB를 더해줌"
   ]
  },
  {
   "cell_type": "code",
   "execution_count": 82,
   "id": "922dcac4",
   "metadata": {},
   "outputs": [
    {
     "name": "stdout",
     "output_type": "stream",
     "text": [
      "[[5 5]\n",
      " [5 5]]\n",
      "\n",
      "[[5 5]\n",
      " [5 5]]\n"
     ]
    }
   ],
   "source": [
    "x2d = np.array([[1,1],[1,1]])\n",
    "y2d = np.array([[2,2],[3,3]])\n",
    "\n",
    "print(x2d.dot(y2d))\n",
    "print()\n",
    "print(np.dot(x2d,y2d))"
   ]
  },
  {
   "cell_type": "code",
   "execution_count": 83,
   "id": "5ffc1cb9",
   "metadata": {},
   "outputs": [
    {
     "name": "stdout",
     "output_type": "stream",
     "text": [
      "180\n",
      "\n",
      "180\n"
     ]
    }
   ],
   "source": [
    "a1d = np.array([9,9])\n",
    "b1d = np.array([10,10])\n",
    "\n",
    "print(a1d.dot(b1d))\n",
    "print()\n",
    "print(np.dot(a1d,b1d))"
   ]
  },
  {
   "cell_type": "code",
   "execution_count": 84,
   "id": "6bc891b7",
   "metadata": {},
   "outputs": [
    {
     "name": "stdout",
     "output_type": "stream",
     "text": [
      "[18 18]\n",
      "\n",
      "[18 18]\n"
     ]
    }
   ],
   "source": [
    "print(x2d.dot(a1d))\n",
    "print()\n",
    "print(np.dot(x2d,a1d))"
   ]
  },
  {
   "cell_type": "code",
   "execution_count": 85,
   "id": "9dda396c",
   "metadata": {},
   "outputs": [
    {
     "name": "stdout",
     "output_type": "stream",
     "text": [
      "A\n",
      "[[[ 0  1  2  3]\n",
      "  [ 4  5  6  7]\n",
      "  [ 8  9 10 11]]\n",
      "\n",
      " [[12 13 14 15]\n",
      "  [16 17 18 19]\n",
      "  [20 21 22 23]]]\n",
      "B\n",
      "[[[-1  0  1]\n",
      "  [ 2  3  4]\n",
      "  [ 5  6  7]\n",
      "  [ 8  9 10]]\n",
      "\n",
      " [[11 12 13]\n",
      "  [14 15 16]\n",
      "  [17 18 19]\n",
      "  [20 21 22]]]\n",
      "A@B\n",
      "[[[  36   42   48]\n",
      "  [  92  114  136]\n",
      "  [ 148  186  224]]\n",
      "\n",
      " [[ 852  906  960]\n",
      "  [1100 1170 1240]\n",
      "  [1348 1434 1520]]]\n"
     ]
    }
   ],
   "source": [
    "A = np.arange(2*3*4).reshape([2,3,4])\n",
    "B = np.arange(2*3*4).reshape([2,4,3])-1\n",
    "print('A')\n",
    "print(A)\n",
    "print('B')\n",
    "print(B)\n",
    "print('A@B')\n",
    "print(A@B) # 내적"
   ]
  },
  {
   "cell_type": "code",
   "execution_count": 87,
   "id": "b2a064ff",
   "metadata": {},
   "outputs": [
    {
     "name": "stdout",
     "output_type": "stream",
     "text": [
      "A\n",
      "[[[ 0  1  2  3]\n",
      "  [ 4  5  6  7]\n",
      "  [ 8  9 10 11]]\n",
      "\n",
      " [[12 13 14 15]\n",
      "  [16 17 18 19]\n",
      "  [20 21 22 23]]]\n",
      "B\n",
      "[[[-1  0  1]\n",
      "  [ 2  3  4]\n",
      "  [ 5  6  7]\n",
      "  [ 8  9 10]]\n",
      "\n",
      " [[11 12 13]\n",
      "  [14 15 16]\n",
      "  [17 18 19]\n",
      "  [20 21 22]]]\n",
      "A.dot(B)\n",
      "[[[[  36   42   48]\n",
      "   [ 108  114  120]]\n",
      "\n",
      "  [[  92  114  136]\n",
      "   [ 356  378  400]]\n",
      "\n",
      "  [[ 148  186  224]\n",
      "   [ 604  642  680]]]\n",
      "\n",
      "\n",
      " [[[ 204  258  312]\n",
      "   [ 852  906  960]]\n",
      "\n",
      "  [[ 260  330  400]\n",
      "   [1100 1170 1240]]\n",
      "\n",
      "  [[ 316  402  488]\n",
      "   [1348 1434 1520]]]]\n"
     ]
    }
   ],
   "source": [
    "A = np.arange(2*3*4).reshape([2,3,4])\n",
    "B = np.arange(2*3*4).reshape([2,4,3])-1\n",
    "print('A')\n",
    "print(A)\n",
    "print('B')\n",
    "print(B)\n",
    "print('A.dot(B)')\n",
    "print(A.dot(B))"
   ]
  },
  {
   "cell_type": "code",
   "execution_count": 88,
   "id": "71ac7902",
   "metadata": {},
   "outputs": [
    {
     "name": "stdout",
     "output_type": "stream",
     "text": [
      "[[11 12]\n",
      " [21 22]]\n",
      "66\n"
     ]
    }
   ],
   "source": [
    "ex1 = np.array([[11,12],[21,22]])\n",
    "print(ex1)\n",
    "\n",
    "print(np.sum(ex1))"
   ]
  },
  {
   "cell_type": "code",
   "execution_count": 90,
   "id": "bf34195d",
   "metadata": {},
   "outputs": [
    {
     "name": "stdout",
     "output_type": "stream",
     "text": [
      "[32 34]\n",
      "[23 43]\n"
     ]
    }
   ],
   "source": [
    "print(np.sum(ex1, axis=0))\n",
    "print(np.sum(ex1, axis=1))"
   ]
  },
  {
   "cell_type": "code",
   "execution_count": 91,
   "id": "3323179e",
   "metadata": {},
   "outputs": [
    {
     "name": "stdout",
     "output_type": "stream",
     "text": [
      "[ 1.47583203 -2.05210935  0.61884595 -1.27375197  1.13177698 -0.7539462\n",
      "  1.39881922  1.17219247]\n",
      "[ 0.77874368 -0.45654157 -0.00821621  0.57630225 -1.06940425  1.54143238\n",
      "  0.22179901 -0.97862801]\n"
     ]
    },
    {
     "data": {
      "text/plain": [
       "array([ 1.47583203, -0.45654157,  0.61884595,  0.57630225,  1.13177698,\n",
       "        1.54143238,  1.39881922,  1.17219247])"
      ]
     },
     "execution_count": 91,
     "metadata": {},
     "output_type": "execute_result"
    }
   ],
   "source": [
    "x = np.random.randn(8)\n",
    "print(x)\n",
    "y = np.random.randn(8)\n",
    "print(y)\n",
    "np.maximum(x,y) # 두 행렬에서 더 큰 요소끼리만 합친거"
   ]
  },
  {
   "cell_type": "markdown",
   "id": "d14a2a30",
   "metadata": {},
   "source": [
    "## Transpose"
   ]
  },
  {
   "cell_type": "code",
   "execution_count": 92,
   "id": "62023335",
   "metadata": {},
   "outputs": [
    {
     "name": "stdout",
     "output_type": "stream",
     "text": [
      "[[11 21]\n",
      " [12 22]]\n"
     ]
    }
   ],
   "source": [
    "ex1 = np.array([[11,12], [21,22]])\n",
    "print(ex1.T) # Transpose, 행을 열로, 열을 행으로"
   ]
  },
  {
   "cell_type": "markdown",
   "id": "a7bdae71",
   "metadata": {},
   "source": [
    "## Indexing using where()"
   ]
  },
  {
   "cell_type": "code",
   "execution_count": 93,
   "id": "d9a46a04",
   "metadata": {},
   "outputs": [
    {
     "name": "stdout",
     "output_type": "stream",
     "text": [
      "[ 1 22  3 44  5]\n"
     ]
    }
   ],
   "source": [
    "x_1 = np.array([1,2,3,4,5])\n",
    "y_1 = np.array([11,22,33,44,55])\n",
    "\n",
    "filter = np.array([True, False, True, False, True])\n",
    "out = np.where(filter, x_1, y_1) # True면 x_1을, False면 y_1를 반환\n",
    "print(out)"
   ]
  },
  {
   "cell_type": "code",
   "execution_count": 94,
   "id": "46392ef3",
   "metadata": {},
   "outputs": [
    {
     "name": "stdout",
     "output_type": "stream",
     "text": [
      "[[0.4235735  0.74040468 0.55791785 0.69782823 0.01310826]\n",
      " [0.87413641 0.69938164 0.90190293 0.95287852 0.95090886]\n",
      " [0.30218983 0.78525656 0.73993246 0.26127377 0.84445869]\n",
      " [0.90049876 0.88147341 0.87013486 0.82782638 0.92694922]\n",
      " [0.94873974 0.74115098 0.37689654 0.04333016 0.48041727]]\n",
      "[[  -1 1000 1000 1000   -1]\n",
      " [1000 1000 1000 1000 1000]\n",
      " [  -1 1000 1000   -1 1000]\n",
      " [1000 1000 1000 1000 1000]\n",
      " [1000 1000   -1   -1   -1]]\n"
     ]
    }
   ],
   "source": [
    "mat = np.random.rand(5,5)\n",
    "print(mat)\n",
    "print(np.where(mat>0.5, 1000, -1)) # 조건 만족시 1000, 아닐시 -1"
   ]
  },
  {
   "cell_type": "markdown",
   "id": "10c0c48c",
   "metadata": {},
   "source": [
    "## \"any\" or \"all\" conditionals"
   ]
  },
  {
   "cell_type": "code",
   "execution_count": 95,
   "id": "12ff4fa6",
   "metadata": {},
   "outputs": [
    {
     "name": "stdout",
     "output_type": "stream",
     "text": [
      "True\n",
      "False\n"
     ]
    }
   ],
   "source": [
    "arr_bools = np.array([True, False, True, True, False])\n",
    "print(arr_bools.any()) # 하나라도 맞으면 True\n",
    "print(arr_bools.all()) # 하나라도 틀리면 False"
   ]
  },
  {
   "cell_type": "markdown",
   "id": "908d6222",
   "metadata": {},
   "source": [
    "## Random Number Generation"
   ]
  },
  {
   "cell_type": "code",
   "execution_count": 96,
   "id": "1a161426",
   "metadata": {},
   "outputs": [
    {
     "name": "stdout",
     "output_type": "stream",
     "text": [
      "[[-0.65835425 -0.32338464  0.83288234 -0.28664291  0.20910049]]\n",
      "[-0.52562801  0.85945088  0.77267887  0.82159124 -1.59095171]\n"
     ]
    }
   ],
   "source": [
    "Y = np.random.normal(size=(1,5))\n",
    "print(Y)\n",
    "print(np.random.normal(size=(1,5))[0])"
   ]
  },
  {
   "cell_type": "code",
   "execution_count": 97,
   "id": "c409c901",
   "metadata": {},
   "outputs": [
    {
     "name": "stdout",
     "output_type": "stream",
     "text": [
      "[65 91 24 37 56 95 36 72 80  5]\n",
      "[37 65 72 56 36 80  5 91 95 24]\n"
     ]
    }
   ],
   "source": [
    "Z = np.random.randint(low=2, high=100, size=10)\n",
    "print(Z)\n",
    "print(np.random.permutation(Z))"
   ]
  },
  {
   "cell_type": "markdown",
   "id": "75acc630",
   "metadata": {},
   "source": [
    "## Merging data sets"
   ]
  },
  {
   "cell_type": "code",
   "execution_count": 98,
   "id": "7dc4006f",
   "metadata": {},
   "outputs": [
    {
     "name": "stdout",
     "output_type": "stream",
     "text": [
      "[[27 21]\n",
      " [29 21]]\n",
      "\n",
      "[[10 22]\n",
      " [ 2 13]]\n"
     ]
    }
   ],
   "source": [
    "K = np.random.randint(low=2, high=50,size=(2,2))\n",
    "print(K)\n",
    "print()\n",
    "\n",
    "M = np.random.randint(low=2, high=50, size=(2,2))\n",
    "print(M)"
   ]
  },
  {
   "cell_type": "code",
   "execution_count": 99,
   "id": "d2b50bcb",
   "metadata": {},
   "outputs": [
    {
     "name": "stdout",
     "output_type": "stream",
     "text": [
      "[[27 21]\n",
      " [29 21]\n",
      " [10 22]\n",
      " [ 2 13]]\n",
      "[[27 21 10 22]\n",
      " [29 21  2 13]]\n",
      "[[27 21]\n",
      " [29 21]\n",
      " [10 22]\n",
      " [ 2 13]]\n",
      "[[27 21 10 22]\n",
      " [29 21  2 13]]\n"
     ]
    }
   ],
   "source": [
    "print(np.vstack((K,M))) # 수직으로 쌓기\n",
    "print(np.hstack((K,M))) # 수평으로 쌓기\n",
    "print(np.concatenate([K,M], axis=0)) # 수직으로 쌓기 (column)\n",
    "print(np.concatenate([K,M], axis=1)) # 수평으로 쌓기 (row)"
   ]
  },
  {
   "cell_type": "code",
   "execution_count": null,
   "id": "39728af0",
   "metadata": {},
   "outputs": [],
   "source": []
  }
 ],
 "metadata": {
  "kernelspec": {
   "display_name": "Python 3.9.12 64-bit",
   "language": "python",
   "name": "python3"
  },
  "language_info": {
   "codemirror_mode": {
    "name": "ipython",
    "version": 3
   },
   "file_extension": ".py",
   "mimetype": "text/x-python",
   "name": "python",
   "nbconvert_exporter": "python",
   "pygments_lexer": "ipython3",
   "version": "3.9.12"
  },
  "vscode": {
   "interpreter": {
    "hash": "7b9aaa2e825cf03f185b50b684f5b2860e65ed1203ac0ec19d6cb8588551b1cc"
   }
  }
 },
 "nbformat": 4,
 "nbformat_minor": 5
}
